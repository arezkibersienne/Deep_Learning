{
  "nbformat": 4,
  "nbformat_minor": 0,
  "metadata": {
    "colab": {
      "provenance": [],
      "collapsed_sections": [],
      "authorship_tag": "ABX9TyPl9UURzb41Ct0B2kRVvhTe",
      "include_colab_link": true
    },
    "kernelspec": {
      "name": "python3",
      "display_name": "Python 3"
    },
    "language_info": {
      "name": "python"
    }
  },
  "cells": [
    {
      "cell_type": "markdown",
      "metadata": {
        "id": "view-in-github",
        "colab_type": "text"
      },
      "source": [
        "<a href=\"https://colab.research.google.com/github/arezkibersienne/Deep_Learning/blob/main/Numpy_neuron.ipynb\" target=\"_parent\"><img src=\"https://colab.research.google.com/assets/colab-badge.svg\" alt=\"Open In Colab\"/></a>"
      ]
    },
    {
      "cell_type": "code",
      "execution_count": 131,
      "metadata": {
        "id": "MdH7i-oJiuo9"
      },
      "outputs": [],
      "source": [
        "import numpy as np\n",
        "import matplotlib.pyplot as plt\n",
        "from sklearn.datasets import make_blobs\n",
        "from sklearn.metrics import accuracy_score"
      ]
    },
    {
      "cell_type": "code",
      "source": [
        "X , y = make_blobs(n_samples = 100 , n_features= 2 , centers = 2, random_state= 0)\n",
        "y = y.reshape((y.shape[0], 1))\n",
        "\n",
        "print(\"X Demension : \" , X.shape)\n",
        "print(\"Y Demension : \" , y.shape)\n",
        "\n",
        "plt.scatter(X[:,0], X[:,1], c=y , cmap=\"summer\")\n",
        "plt.show()"
      ],
      "metadata": {
        "colab": {
          "base_uri": "https://localhost:8080/",
          "height": 300
        },
        "id": "782aqTm5jfc0",
        "outputId": "4ed1325a-c55d-4542-9dc6-0d6026c1d097"
      },
      "execution_count": 132,
      "outputs": [
        {
          "output_type": "stream",
          "name": "stdout",
          "text": [
            "X Demension :  (100, 2)\n",
            "Y Demension :  (100, 1)\n"
          ]
        },
        {
          "output_type": "display_data",
          "data": {
            "text/plain": [
              "<Figure size 432x288 with 1 Axes>"
            ],
            "image/png": "[encoded data removed]"
          },
          "metadata": {
            "needs_background": "light"
          }
        }
      ]
    },
    {
      "cell_type": "code",
      "source": [
        "def init(X):\n",
        "    W = np.random.randn(X.shape[1], 1)\n",
        "    b = np.random.randn(1)\n",
        "    return (W, b)"
      ],
      "metadata": {
        "id": "mQzFZMOnjxZN"
      },
      "execution_count": 133,
      "outputs": []
    },
    {
      "cell_type": "code",
      "source": [
        "def model(X, W, b):\n",
        "    Z = X.dot(W) + b\n",
        "    A = 1 / (1 + np.exp(-Z))\n",
        "    return A"
      ],
      "metadata": {
        "id": "Y2QyQzGrlt8p"
      },
      "execution_count": 134,
      "outputs": []
    },
    {
      "cell_type": "code",
      "source": [
        "def log_loss(A, y):\n",
        "    return 1 / len(y) * np.sum(-y * np.log(A) - (1 - y) * np.log(1 - A))"
      ],
      "metadata": {
        "id": "GoGBVoGfl3W3"
      },
      "execution_count": 135,
      "outputs": []
    },
    {
      "cell_type": "code",
      "source": [
        "def gradient(A, X, y):\n",
        "    dW = 1 / len(y) * np.dot(X.T, A -y)\n",
        "    db = 1 / len(y) * np.sum(A - y)\n",
        "    return (dW, db)"
      ],
      "metadata": {
        "id": "J2CuMtzTAZWR"
      },
      "execution_count": 136,
      "outputs": []
    },
    {
      "cell_type": "code",
      "source": [
        "def update(dW, db, W, b, learning_rate):\n",
        "    W = W - learning_rate * dW\n",
        "    b = b - learning_rate * db\n",
        "    return (W , b)"
      ],
      "metadata": {
        "id": "iG688Vx2zSFn"
      },
      "execution_count": 137,
      "outputs": []
    },
    {
      "cell_type": "code",
      "source": [
        "def predict(X, W, b):\n",
        "    A = model(X, W, b)\n",
        "    print(A)\n",
        "    return A >= 0.5"
      ],
      "metadata": {
        "id": "cFTS-AWx8YVD"
      },
      "execution_count": 138,
      "outputs": []
    },
    {
      "cell_type": "code",
      "source": [
        "def artifical_neuron(X , y, learning_rate = 0.1, n_iter = 100):\n",
        "  #init the W , b params\n",
        "    W, b = init(X)\n",
        "\n",
        "    Loss = []\n",
        "\n",
        "    for i in range(n_iter):\n",
        "        A = model(X, W, b)\n",
        "        Loss.append(log_loss(A, y))\n",
        "        dW, db = gradient(A, X, y)\n",
        "        W, b = update(dW, db, W, b, learning_rate)\n",
        "     \n",
        "    \n",
        "    y_pred = predict(X, W, b)\n",
        "    print(accuracy_score(y, y_pred))\n",
        "    \n",
        "    \n",
        "    plt.plot(Loss)\n",
        "    plt.show()\n",
        "\n",
        "    return (W, b)"
      ],
      "metadata": {
        "id": "F2-uwtiK0KwE"
      },
      "execution_count": 139,
      "outputs": []
    },
    {
      "cell_type": "code",
      "source": [
        "artifical_neuron(X,y)\n"
      ],
      "metadata": {
        "colab": {
          "base_uri": "https://localhost:8080/",
          "height": 1000
        },
        "id": "DgyWtlJJ6NPr",
        "outputId": "c7ca46f8-bcb9-4ccf-a8c9-72cec1a19ec1"
      },
      "execution_count": 140,
      "outputs": [
        {
          "output_type": "stream",
          "name": "stdout",
          "text": [
            "[[0.95069355]\n",
            " [0.80709505]\n",
            " [0.00743631]\n",
            " [0.18573682]\n",
            " [0.95501512]\n",
            " [0.36711677]\n",
            " [0.0780636 ]\n",
            " [0.92746317]\n",
            " [0.05746269]\n",
            " [0.88790332]\n",
            " [0.03695977]\n",
            " [0.88399675]\n",
            " [0.02718063]\n",
            " [0.02335667]\n",
            " [0.72943487]\n",
            " [0.97394673]\n",
            " [0.98929846]\n",
            " [0.04590923]\n",
            " [0.7825161 ]\n",
            " [0.67999731]\n",
            " [0.04853284]\n",
            " [0.04261822]\n",
            " [0.4211921 ]\n",
            " [0.00712199]\n",
            " [0.94754794]\n",
            " [0.03617007]\n",
            " [0.90734377]\n",
            " [0.00923788]\n",
            " [0.06765467]\n",
            " [0.73315902]\n",
            " [0.97724065]\n",
            " [0.04808683]\n",
            " [0.71866063]\n",
            " [0.97754128]\n",
            " [0.41709188]\n",
            " [0.21645377]\n",
            " [0.80408798]\n",
            " [0.54989012]\n",
            " [0.45807928]\n",
            " [0.5263803 ]\n",
            " [0.09420076]\n",
            " [0.06135774]\n",
            " [0.00127914]\n",
            " [0.17549123]\n",
            " [0.22901993]\n",
            " [0.83651781]\n",
            " [0.96765722]\n",
            " [0.96426495]\n",
            " [0.00707231]\n",
            " [0.01109184]\n",
            " [0.94167041]\n",
            " [0.62329367]\n",
            " [0.03756394]\n",
            " [0.04208033]\n",
            " [0.77919145]\n",
            " [0.04602659]\n",
            " [0.67645952]\n",
            " [0.8399313 ]\n",
            " [0.94118365]\n",
            " [0.9897867 ]\n",
            " [0.67782825]\n",
            " [0.17391243]\n",
            " [0.00664561]\n",
            " [0.9178883 ]\n",
            " [0.01521276]\n",
            " [0.3801204 ]\n",
            " [0.04736292]\n",
            " [0.57782722]\n",
            " [0.93025422]\n",
            " [0.26921394]\n",
            " [0.18925037]\n",
            " [0.92708289]\n",
            " [0.95778047]\n",
            " [0.10923702]\n",
            " [0.15718299]\n",
            " [0.04785621]\n",
            " [0.57921076]\n",
            " [0.85654927]\n",
            " [0.05859621]\n",
            " [0.03829689]\n",
            " [0.29959084]\n",
            " [0.10961489]\n",
            " [0.00591998]\n",
            " [0.11335132]\n",
            " [0.12329939]\n",
            " [0.01647893]\n",
            " [0.96515148]\n",
            " [0.05997229]\n",
            " [0.83065595]\n",
            " [0.95213859]\n",
            " [0.88706866]\n",
            " [0.97750222]\n",
            " [0.4921038 ]\n",
            " [0.94283448]\n",
            " [0.28344796]\n",
            " [0.00218519]\n",
            " [0.98061546]\n",
            " [0.95507875]\n",
            " [0.01499872]\n",
            " [0.48492934]]\n",
            "0.9\n"
          ]
        },
        {
          "output_type": "display_data",
          "data": {
            "text/plain": [
              "<Figure size 432x288 with 1 Axes>"
            ],
            "image/png": "[encoded data removed]"
          },
          "metadata": {
            "needs_background": "light"
          }
        },
        {
          "output_type": "execute_result",
          "data": {
            "text/plain": [
              "(array([[ 1.05071289],\n",
              "        [-1.09939373]]), array([0.98295706]))"
            ]
          },
          "metadata": {},
          "execution_count": 140
        }
      ]
    },
    {
      "cell_type": "code",
      "source": [
        "#changing the graph facecolor\n",
        "plt.rcParams['axes.facecolor']='pink'\n",
        "\n",
        "#Drawing the speration lane \n",
        "x0 = np.linspace(-1 , 4, 100)\n",
        "x1 = (-W[0] * x0 - b) / W[1]\n",
        "\n",
        "\n",
        "#Adding a new plant \n",
        "new_plant = np.array([2, 1])\n",
        "plt.scatter(X[:,0], X[:,1], c=y , cmap=\"summer\")\n",
        "plt.scatter(new_plant[0], new_plant[1], c=\"m\")\n",
        "plt.plot(x0 , x1 , c=\"black\", lw=\"3\")\n",
        "plt.show()\n",
        "predict(new_plant, W, b)"
      ],
      "metadata": {
        "colab": {
          "base_uri": "https://localhost:8080/",
          "height": 300
        },
        "id": "j1NT9PFF6QF_",
        "outputId": "f2f4f904-949f-42e5-ca1e-dde891a20c66"
      },
      "execution_count": 141,
      "outputs": [
        {
          "output_type": "display_data",
          "data": {
            "text/plain": [
              "<Figure size 432x288 with 1 Axes>"
            ],
            "image/png": "[encoded data removed]"
          },
          "metadata": {
            "needs_background": "light"
          }
        },
        {
          "output_type": "stream",
          "name": "stdout",
          "text": [
            "[0.88209857]\n"
          ]
        },
        {
          "output_type": "execute_result",
          "data": {
            "text/plain": [
              "array([ True])"
            ]
          },
          "metadata": {},
          "execution_count": 141
        }
      ]
    },
    {
      "cell_type": "code",
      "source": [],
      "metadata": {
        "id": "ZInBw6eKDdVt"
      },
      "execution_count": null,
      "outputs": []
    }
  ]
}
