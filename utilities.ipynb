{
  "nbformat": 4,
  "nbformat_minor": 0,
  "metadata": {
    "colab": {
      "provenance": [],
      "collapsed_sections": [],
      "authorship_tag": "ABX9TyOdfylpvskvHZqaOZZ81SPw",
      "include_colab_link": true
    },
    "kernelspec": {
      "name": "python3",
      "display_name": "Python 3"
    },
    "language_info": {
      "name": "python"
    }
  },
  "cells": [
    {
      "cell_type": "markdown",
      "metadata": {
        "id": "view-in-github",
        "colab_type": "text"
      },
      "source": [
        "<a href=\"https://colab.research.google.com/github/arezkibersienne/Deep_Learning/blob/main/utilities.ipynb\" target=\"_parent\"><img src=\"https://colab.research.google.com/assets/colab-badge.svg\" alt=\"Open In Colab\"/></a>"
      ]
    },
    {
      "cell_type": "code",
      "execution_count": null,
      "metadata": {
        "id": "nSq8CkwZPnu-"
      },
      "outputs": [],
      "source": [
        "import h5py\n",
        "import numpy as np\n",
        "\n",
        "\n",
        "def load_data():\n",
        "    train_dataset = h5py.File('datasets/trainset.hdf5', \"r\")\n",
        "    X_train = np.array(train_dataset[\"X_train\"][:]) # your train set features\n",
        "    y_train = np.array(train_dataset[\"Y_train\"][:]) # your train set labels\n",
        "\n",
        "    test_dataset = h5py.File('datasets/testset.hdf5', \"r\")\n",
        "    X_test = np.array(test_dataset[\"X_test\"][:]) # your train set features\n",
        "    y_test = np.array(test_dataset[\"Y_test\"][:]) # your train set labels\n",
        "    \n",
        "    return X_train, y_train, X_test, y_test"
      ]
    },
    {
      "cell_type": "code",
      "source": [],
      "metadata": {
        "id": "LAQhoPOsPpBy"
      },
      "execution_count": null,
      "outputs": []
    }
  ]
}